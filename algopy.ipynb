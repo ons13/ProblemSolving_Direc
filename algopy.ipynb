{
  "nbformat": 4,
  "nbformat_minor": 0,
  "metadata": {
    "colab": {
      "provenance": [],
      "authorship_tag": "ABX9TyMNzUObV7od0qnAyeG8Cd+f",
      "include_colab_link": true
    },
    "kernelspec": {
      "name": "python3",
      "display_name": "Python 3"
    },
    "language_info": {
      "name": "python"
    }
  },
  "cells": [
    {
      "cell_type": "markdown",
      "metadata": {
        "id": "view-in-github",
        "colab_type": "text"
      },
      "source": [
        "<a href=\"https://colab.research.google.com/github/ons13/python-algorithm-exercises/blob/main/algopy.ipynb\" target=\"_parent\"><img src=\"https://colab.research.google.com/assets/colab-badge.svg\" alt=\"Open In Colab\"/></a>"
      ]
    },
    {
      "cell_type": "markdown",
      "source": [
        "## Table des matières\n",
        "\n",
        "\n",
        "1. **Arrays**\n",
        "\n",
        "\n",
        "* Two Sum\n",
        "* 3Sum\n",
        "* Contains Duplicate\n",
        "* Merge Intervals\n",
        "* Kth Largest Element in an Array\n",
        "* Maximum Subarray\n",
        "* Maximum Product Subarray\n",
        "* Best Time to Buy and Sell Stock\n",
        "* Container with Most Water\n",
        "* Trapping Rain Water\n",
        "* Subarray Sum Equals K\n",
        "* Minimum Size Subarray Sum\n",
        "* Median of Two Sorted Arrays\n",
        "* Sort Colors\n",
        "* Majority Element\n",
        "* Longest Consecutive Sequence\n",
        "* Longest Substring Without Repeating Characters\n",
        "* Minimum Window Substring\n",
        "* Permutation in String\n",
        "\n",
        "\n",
        "\n",
        "\n",
        "2. **2D Arrays**\n",
        "3. **Stack and Queues**\n",
        "4. **String**\n",
        "5. **Greedy**\n",
        "6. **Recursion and Backtracking**\n",
        "7. **Linked List**\n",
        "8. **Heap**\n",
        "9. **Binary Trees**\n",
        "10. **Binary Search Trees**\n",
        "11. **Trie**\n",
        "12. **Dynamic Programming**\n",
        "13. **Graph**\n",
        "14. **Bits**"
      ],
      "metadata": {
        "id": "OtirKZQCKdPc"
      }
    },
    {
      "cell_type": "code",
      "source": [
        "#Two Sum O(n²)\n",
        "from typing import List\n",
        "class Solution:\n",
        "  def twoSum(self, nums: List[int],target:int) -> List[int]:\n",
        "    for i in range (len(nums)):\n",
        "      for j in range (i+1,len(nums)):\n",
        "        if nums[i]+nums[j]==target:\n",
        "\n",
        "          return [i,j]\n",
        "\n",
        "nums = [2,7,11,15]\n",
        "target = 13\n",
        "solution = Solution()\n",
        "result=solution.twoSum(nums,target)\n",
        "print(result)"
      ],
      "metadata": {
        "colab": {
          "base_uri": "https://localhost:8080/"
        },
        "id": "AalAEnKlTtv4",
        "outputId": "9c4d4b01-1a69-4296-9490-fd88efc45edb"
      },
      "execution_count": 2,
      "outputs": [
        {
          "output_type": "stream",
          "name": "stdout",
          "text": [
            "[0, 2]\n"
          ]
        }
      ]
    },
    {
      "cell_type": "code",
      "source": [
        "#Two Sum O(n)\n",
        "\n",
        "class Solution:\n",
        "    def twoSum(self, nums: List[int], target: int) -> List[int]:\n",
        "        Dic={}\n",
        "\n",
        "        for i , n in enumerate(nums):\n",
        "            diff = target - n\n",
        "            if diff in Dic:\n",
        "                return [Dic[diff],i]\n",
        "            Dic[n] = i\n",
        "        return\n",
        "nums = [2,7,11,15]\n",
        "target = 13\n",
        "solution = Solution()\n",
        "result=solution.twoSum(nums,target)\n",
        "print(result)"
      ],
      "metadata": {
        "colab": {
          "base_uri": "https://localhost:8080/"
        },
        "id": "ZVtbXhCp-_Yg",
        "outputId": "1d08b915-0bf4-42cb-987c-b158a8bf81ef"
      },
      "execution_count": 3,
      "outputs": [
        {
          "output_type": "stream",
          "name": "stdout",
          "text": [
            "[0, 2]\n"
          ]
        }
      ]
    },
    {
      "cell_type": "code",
      "source": [],
      "metadata": {
        "id": "OE5BezKgAiXH"
      },
      "execution_count": null,
      "outputs": []
    }
  ]
}