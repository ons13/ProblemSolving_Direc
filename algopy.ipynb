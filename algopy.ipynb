{
  "nbformat": 4,
  "nbformat_minor": 0,
  "metadata": {
    "colab": {
      "provenance": [],
      "authorship_tag": "ABX9TyOhHN3DEkM9BsijxoTJRoXx",
      "include_colab_link": true
    },
    "kernelspec": {
      "name": "python3",
      "display_name": "Python 3"
    },
    "language_info": {
      "name": "python"
    }
  },
  "cells": [
    {
      "cell_type": "markdown",
      "metadata": {
        "id": "view-in-github",
        "colab_type": "text"
      },
      "source": [
        "<a href=\"https://colab.research.google.com/github/ons13/python-algorithm-exercises/blob/main/algopy.ipynb\" target=\"_parent\"><img src=\"https://colab.research.google.com/assets/colab-badge.svg\" alt=\"Open In Colab\"/></a>"
      ]
    },
    {
      "cell_type": "markdown",
      "source": [
        "## Table des matières\n",
        "\n",
        "\n",
        "1. **Arrays**\n",
        "\n",
        "\n",
        "* Two Sum\n",
        "* Two Sum II\n",
        "* 3Sum\n",
        "* Contains Duplicate\n",
        "* Merge Intervals\n",
        "* Kth Largest Element in an Array\n",
        "* Maximum Subarray\n",
        "* Maximum Product Subarray\n",
        "* Best Time to Buy and Sell Stock\n",
        "* Container with Most Water\n",
        "* Trapping Rain Water\n",
        "* Subarray Sum Equals K\n",
        "* Minimum Size Subarray Sum\n",
        "* Median of Two Sorted Arrays\n",
        "* Sort Colors\n",
        "* Majority Element\n",
        "* Longest Consecutive Sequence\n",
        "* Longest Substring Without Repeating Characters\n",
        "* Minimum Window Substring\n",
        "* Permutation in String\n",
        "\n",
        "\n",
        "\n",
        "\n",
        "2. **2D Arrays**\n",
        "3. **Stack and Queues**\n",
        "4. **String**\n",
        "5. **Greedy**\n",
        "6. **Recursion and Backtracking**\n",
        "7. **Linked List**\n",
        "8. **Heap**\n",
        "9. **Binary Trees**\n",
        "10. **Binary Search Trees**\n",
        "11. **Trie**\n",
        "12. **Dynamic Programming**\n",
        "13. **Graph**\n",
        "14. **Bits**"
      ],
      "metadata": {
        "id": "OtirKZQCKdPc"
      }
    },
    {
      "cell_type": "code",
      "source": [
        "#Two Sum O(n²)\n",
        "from typing import List\n",
        "class Solution:\n",
        "  def twoSum(self, nums: List[int],target:int) -> List[int]:\n",
        "    for i in range (len(nums)-1):\n",
        "      for j in range (i+1,len(nums)):\n",
        "        if nums[i]+nums[j]==target:\n",
        "\n",
        "          return [i,j]\n",
        "\n",
        "nums = [2,7,11,15]\n",
        "target = 13\n",
        "solution = Solution()\n",
        "result=solution.twoSum(nums,target)\n",
        "print(result)"
      ],
      "metadata": {
        "colab": {
          "base_uri": "https://localhost:8080/"
        },
        "id": "AalAEnKlTtv4",
        "outputId": "2f5cded9-572c-4ddb-900c-f43f7721edb0"
      },
      "execution_count": null,
      "outputs": [
        {
          "output_type": "stream",
          "name": "stdout",
          "text": [
            "[0, 2]\n"
          ]
        }
      ]
    },
    {
      "cell_type": "code",
      "source": [
        "#Two Sum O(n)\n",
        "\n",
        "class Solution:\n",
        "    def twoSum(self, nums: List[int], target: int) -> List[int]:\n",
        "        Dic={}\n",
        "\n",
        "        for i , n in enumerate(nums):\n",
        "            diff = target - n\n",
        "            if diff in Dic:\n",
        "                return [Dic[diff],i]\n",
        "            Dic[n] = i\n",
        "        return\n",
        "nums = [2,7,11,15]\n",
        "target = 13\n",
        "solution = Solution()\n",
        "result=solution.twoSum(nums,target)\n",
        "print(result)"
      ],
      "metadata": {
        "colab": {
          "base_uri": "https://localhost:8080/"
        },
        "id": "ZVtbXhCp-_Yg",
        "outputId": "d44e8a15-fea2-4246-d2cd-a3d76c6a90e0"
      },
      "execution_count": null,
      "outputs": [
        {
          "output_type": "stream",
          "name": "stdout",
          "text": [
            "[0, 2]\n"
          ]
        }
      ]
    },
    {
      "cell_type": "code",
      "source": [
        "#2sums2 O(n²)\n",
        "from typing import List\n",
        "\n",
        "class Solution:\n",
        "    def twoSum2(self, numbers: List[int], target: int) -> List[int]:\n",
        "        result = []\n",
        "        for i in range (len(numbers)):\n",
        "            for j in range(i+1,len(numbers)):\n",
        "                if numbers[i]+numbers[j]==target:\n",
        "                    return [i+1,j+1]\n",
        "        return []\n",
        "numbers =  [2,7,11,15]\n",
        "target = 13\n",
        "solution = Solution()\n",
        "result=solution.twoSum2(numbers,target)\n",
        "print(result)"
      ],
      "metadata": {
        "colab": {
          "base_uri": "https://localhost:8080/"
        },
        "id": "Kb63jsja5_pj",
        "outputId": "db605169-105c-450e-99d9-382ac7a9c85b"
      },
      "execution_count": 16,
      "outputs": [
        {
          "output_type": "stream",
          "name": "stdout",
          "text": [
            "[1, 3]\n"
          ]
        }
      ]
    },
    {
      "cell_type": "code",
      "source": [
        "#2sums2 O(n)\n",
        "from typing import List\n",
        "\n",
        "class sol:\n",
        "  def twosum2(self,nums,target):\n",
        "    l,r =0 , len(nums)-1\n",
        "    while l<r:\n",
        "      curSum = nums[l]+nums[r]\n",
        "      if curSum>target:\n",
        "        r-=1\n",
        "      elif curSum<target:\n",
        "        l+=1\n",
        "      else:\n",
        "        return[l+1,r+1]\n",
        "nums = [2,7,11,15]\n",
        "target = 13\n",
        "solution = sol()\n",
        "result=solution.twosum2(nums,target)\n",
        "print(result)"
      ],
      "metadata": {
        "colab": {
          "base_uri": "https://localhost:8080/"
        },
        "id": "6wB4iQAFBVOX",
        "outputId": "6d720a28-da5b-476a-d0c0-e45c964caaeb"
      },
      "execution_count": 17,
      "outputs": [
        {
          "output_type": "stream",
          "name": "stdout",
          "text": [
            "[1, 3]\n"
          ]
        }
      ]
    },
    {
      "cell_type": "code",
      "source": [
        "#3Sum\n",
        "class Solution:\n",
        "    def threeSum(self, nums: List[int]) -> List[List[int]]:\n",
        "        res = []\n",
        "        nums.sort()\n",
        "\n",
        "        for i,a in enumerate(nums):\n",
        "          if i>0 and a== nums[i-1]:\n",
        "            continue\n",
        "\n",
        "          l,r = i+1 , len(nums) - 1\n",
        "          while l < r:\n",
        "            threeSum = a + nums[l]+ nums [r]\n",
        "            if threeSum > 0:\n",
        "              r-=1\n",
        "            elif threeSum < 0:\n",
        "              l += 1\n",
        "            else:\n",
        "              res.append([a,nums[l],nums[r]])\n",
        "              l+=1\n",
        "              while nums[l]==nums[l-1]and l<r:\n",
        "                l+=1\n",
        "        return res\n",
        "nums = [-1,0,1,2,-1,-4]\n",
        "solution = Solution()\n",
        "result=solution.threeSum(nums)\n",
        "print(result)"
      ],
      "metadata": {
        "colab": {
          "base_uri": "https://localhost:8080/"
        },
        "id": "OE5BezKgAiXH",
        "outputId": "e28d9ba9-6dc3-40c1-8c96-caf4ea140df7"
      },
      "execution_count": 24,
      "outputs": [
        {
          "output_type": "stream",
          "name": "stdout",
          "text": [
            "[[-1, -1, 2], [-1, 0, 1]]\n"
          ]
        }
      ]
    },
    {
      "cell_type": "code",
      "source": [],
      "metadata": {
        "id": "zMhHbrWximOA"
      },
      "execution_count": null,
      "outputs": []
    }
  ]
}