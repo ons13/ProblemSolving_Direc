{
  "nbformat": 4,
  "nbformat_minor": 0,
  "metadata": {
    "colab": {
      "provenance": [],
      "authorship_tag": "ABX9TyPWF70wd73oOnnAGOL8cyAR",
      "include_colab_link": true
    },
    "kernelspec": {
      "name": "python3",
      "display_name": "Python 3"
    },
    "language_info": {
      "name": "python"
    }
  },
  "cells": [
    {
      "cell_type": "markdown",
      "metadata": {
        "id": "view-in-github",
        "colab_type": "text"
      },
      "source": [
        "<a href=\"https://colab.research.google.com/github/ons13/python-algorithm-exercises/blob/main/algopy.ipynb\" target=\"_parent\"><img src=\"https://colab.research.google.com/assets/colab-badge.svg\" alt=\"Open In Colab\"/></a>"
      ]
    },
    {
      "cell_type": "markdown",
      "source": [
        "## Table des matières\n",
        "\n",
        "\n",
        "1. **Arrays**\n",
        "\n",
        "\n",
        "* Two Sum\n",
        "* Two Sum II\n",
        "* 3Sum\n",
        "* Contains Duplicate\n",
        "* Merge Intervals\n",
        "* Kth Largest Element in an Array\n",
        "* Maximum Subarray\n",
        "* Maximum Product Subarray\n",
        "* Best Time to Buy and Sell Stock\n",
        "* Container with Most Water\n",
        "* Trapping Rain Water\n",
        "* Subarray Sum Equals K\n",
        "* Minimum Size Subarray Sum\n",
        "* Median of Two Sorted Arrays\n",
        "* Sort Colors\n",
        "* Majority Element\n",
        "* Longest Consecutive Sequence\n",
        "* Longest Substring Without Repeating Characters\n",
        "* Minimum Window Substring\n",
        "* Permutation in String\n",
        "\n",
        "\n",
        "\n",
        "\n",
        "2. **2D Arrays**\n",
        "3. **Stack and Queues**\n",
        "4. **String**\n",
        "5. **Greedy**\n",
        "6. **Recursion and Backtracking**\n",
        "7. **Linked List**\n",
        "8. **Heap**\n",
        "9. **Binary Trees**\n",
        "10. **Binary Search Trees**\n",
        "11. **Trie**\n",
        "12. **Dynamic Programming**\n",
        "13. **Graph**\n",
        "14. **Bits**"
      ],
      "metadata": {
        "id": "OtirKZQCKdPc"
      }
    },
    {
      "cell_type": "code",
      "source": [
        "#Two Sum O(n²)\n",
        "from typing import List\n",
        "class Solution:\n",
        "  def twoSum(self, nums: List[int],target:int) -> List[int]:\n",
        "    for i in range (len(nums)-1):\n",
        "      for j in range (i+1,len(nums)):\n",
        "        if nums[i]+nums[j]==target:\n",
        "\n",
        "          return [i,j]\n",
        "\n",
        "nums = [2,7,11,15]\n",
        "target = 13\n",
        "solution = Solution()\n",
        "result=solution.twoSum(nums,target)\n",
        "print(result)"
      ],
      "metadata": {
        "colab": {
          "base_uri": "https://localhost:8080/"
        },
        "id": "AalAEnKlTtv4",
        "outputId": "96080d22-5e1d-4317-e64c-b6ce3c2a77af"
      },
      "execution_count": null,
      "outputs": [
        {
          "output_type": "stream",
          "name": "stdout",
          "text": [
            "[0, 2]\n"
          ]
        }
      ]
    },
    {
      "cell_type": "code",
      "source": [
        "#Two Sum O(n)\n",
        "\n",
        "class Solution:\n",
        "    def twoSum(self, nums: List[int], target: int) -> List[int]:\n",
        "        Dic={}\n",
        "\n",
        "        for i , n in enumerate(nums):\n",
        "            diff = target - n\n",
        "            if diff in Dic:\n",
        "                return [Dic[diff],i]\n",
        "            Dic[n] = i\n",
        "        return\n",
        "nums = [2,7,11,15]\n",
        "target = 13\n",
        "solution = Solution()\n",
        "result=solution.twoSum(nums,target)\n",
        "print(result)"
      ],
      "metadata": {
        "colab": {
          "base_uri": "https://localhost:8080/"
        },
        "id": "ZVtbXhCp-_Yg",
        "outputId": "d44e8a15-fea2-4246-d2cd-a3d76c6a90e0"
      },
      "execution_count": null,
      "outputs": [
        {
          "output_type": "stream",
          "name": "stdout",
          "text": [
            "[0, 2]\n"
          ]
        }
      ]
    },
    {
      "cell_type": "code",
      "source": [
        "#2sums2 O(n²)\n",
        "from typing import List\n",
        "\n",
        "class Solution:\n",
        "    def twoSum2(self, numbers: List[int], target: int) -> List[int]:\n",
        "        result = []\n",
        "        for i in range (len(numbers)):\n",
        "            for j in range(i+1,len(numbers)):\n",
        "                if numbers[i]+numbers[j]==target:\n",
        "                    return [i+1,j+1]\n",
        "        return []\n",
        "numbers =  [2,7,11,15]\n",
        "target = 13\n",
        "solution = Solution()\n",
        "result=solution.twoSum2(numbers,target)\n",
        "print(result)"
      ],
      "metadata": {
        "colab": {
          "base_uri": "https://localhost:8080/"
        },
        "id": "Kb63jsja5_pj",
        "outputId": "db605169-105c-450e-99d9-382ac7a9c85b"
      },
      "execution_count": null,
      "outputs": [
        {
          "output_type": "stream",
          "name": "stdout",
          "text": [
            "[1, 3]\n"
          ]
        }
      ]
    },
    {
      "cell_type": "code",
      "source": [
        "#2sums2 O(n)\n",
        "from typing import List\n",
        "\n",
        "class sol:\n",
        "  def twosum2(self,nums,target):\n",
        "    l,r =0 , len(nums)-1\n",
        "    while l<r:\n",
        "      curSum = nums[l]+nums[r]\n",
        "      if curSum>target:\n",
        "        r-=1\n",
        "      elif curSum<target:\n",
        "        l+=1\n",
        "      else:\n",
        "        return[l+1,r+1]\n",
        "nums = [2,7,11,15]\n",
        "target = 13\n",
        "solution = sol()\n",
        "result=solution.twosum2(nums,target)\n",
        "print(result)"
      ],
      "metadata": {
        "colab": {
          "base_uri": "https://localhost:8080/"
        },
        "id": "6wB4iQAFBVOX",
        "outputId": "6d720a28-da5b-476a-d0c0-e45c964caaeb"
      },
      "execution_count": null,
      "outputs": [
        {
          "output_type": "stream",
          "name": "stdout",
          "text": [
            "[1, 3]\n"
          ]
        }
      ]
    },
    {
      "cell_type": "code",
      "source": [
        "#3Sum\n",
        "class Solution:\n",
        "    def threeSum(self, nums: List[int]) -> List[List[int]]:\n",
        "        res = []\n",
        "        nums.sort()\n",
        "\n",
        "        for i,a in enumerate(nums):\n",
        "          if i>0 and a== nums[i-1]:\n",
        "            continue\n",
        "\n",
        "          l,r = i+1 , len(nums) - 1\n",
        "          while l < r:\n",
        "            threeSum = a + nums[l]+ nums [r]\n",
        "            if threeSum > 0:\n",
        "              r-=1\n",
        "            elif threeSum < 0:\n",
        "              l += 1\n",
        "            else:\n",
        "              res.append([a,nums[l],nums[r]])\n",
        "              l+=1\n",
        "              while nums[l]==nums[l-1]and l<r:\n",
        "                l+=1\n",
        "        return res\n",
        "nums = [-1,0,1,2,-1,-4]\n",
        "\n",
        "solution = Solution()\n",
        "\n",
        "result=solution.threeSum(nums)\n",
        "\n",
        "print(result)"
      ],
      "metadata": {
        "colab": {
          "base_uri": "https://localhost:8080/"
        },
        "id": "OE5BezKgAiXH",
        "outputId": "a08892f4-ab63-44e6-8362-f1ee8f12732b"
      },
      "execution_count": null,
      "outputs": [
        {
          "output_type": "stream",
          "name": "stdout",
          "text": [
            "[[-1, -1, 2], [-1, 0, 1]]\n"
          ]
        }
      ]
    },
    {
      "cell_type": "code",
      "source": [
        "#containsDuplicatev1\n",
        "class Solution:\n",
        "    def containsDuplicate(self, nums: List[int]) -> bool:\n",
        "        for i in range (len(nums)):\n",
        "            for j in range (i+1 ,len(nums)):\n",
        "                if nums[i]==nums[j]:\n",
        "                    return True\n",
        "        return False\n",
        "nums=[1,2,3,5,2]\n",
        "sol = Solution()\n",
        "res=sol.containsDuplicate(nums)\n",
        "print(res)"
      ],
      "metadata": {
        "colab": {
          "base_uri": "https://localhost:8080/"
        },
        "id": "cbcO1H5IrhRM",
        "outputId": "4165f0e8-5fbd-4a64-b9b4-ae4e7dc5c656"
      },
      "execution_count": null,
      "outputs": [
        {
          "output_type": "stream",
          "name": "stdout",
          "text": [
            "True\n"
          ]
        }
      ]
    },
    {
      "cell_type": "code",
      "source": [
        "#containsDuplicate v2\n",
        "from typing import List\n",
        "\n",
        "class Solution:\n",
        "    def containsDuplicate(self, nums: List[int]) -> bool:\n",
        "        nums = sorted(nums)\n",
        "        for i in range (len(nums)-1):\n",
        "            if nums[i]==nums[i+1]:\n",
        "                return True\n",
        "        return False\n",
        "\n",
        "nums=[1,2,3,5,2]\n",
        "sol = Solution()\n",
        "res=sol.containsDuplicate(nums)\n",
        "print(res)"
      ],
      "metadata": {
        "id": "zMhHbrWximOA",
        "colab": {
          "base_uri": "https://localhost:8080/"
        },
        "outputId": "5f6f78fa-851c-43a3-ae7e-69e58b11386c"
      },
      "execution_count": null,
      "outputs": [
        {
          "output_type": "stream",
          "name": "stdout",
          "text": [
            "True\n"
          ]
        }
      ]
    },
    {
      "cell_type": "code",
      "source": [
        "#containsDuplicatev3 better time/space\n",
        "class Solution:\n",
        "    def containsDuplicate(self, nums: List[int]) -> bool:\n",
        "        hashmap = set()\n",
        "        for i in nums:\n",
        "            if i in hashmap:\n",
        "                return True\n",
        "            hashmap.add(i)\n",
        "        return False\n",
        "\n",
        "nums=[1,2,3,5,2]\n",
        "sol = Solution()\n",
        "res=sol.containsDuplicate(nums)\n",
        "print(res)"
      ],
      "metadata": {
        "colab": {
          "base_uri": "https://localhost:8080/"
        },
        "id": "gSQslnhkrQiX",
        "outputId": "4f06dce4-44eb-4bd2-9ac7-f9d89c1ace82"
      },
      "execution_count": null,
      "outputs": [
        {
          "output_type": "stream",
          "name": "stdout",
          "text": [
            "True\n"
          ]
        }
      ]
    },
    {
      "cell_type": "code",
      "source": [
        "# Merge Intervals\n",
        "class Solution:\n",
        "    def merge(self, intervals: List[List[int]]) -> List[List[int]]:\n",
        "        if len(intervals) <= 1:\n",
        "            return intervals\n",
        "\n",
        "        intervals.sort()\n",
        "\n",
        "        res=[intervals[0]]\n",
        "\n",
        "        for start , end in intervals[1:]:\n",
        "            if start <= res[-1][1]:\n",
        "                res[-1][1] = max (end , res[-1][1])\n",
        "            else:\n",
        "                res.append([start, end])\n",
        "\n",
        "        return res\n",
        ""
      ],
      "metadata": {
        "id": "Ideb9nnss-8-",
        "colab": {
          "base_uri": "https://localhost:8080/"
        },
        "outputId": "efe3c3f4-0ee3-425f-a64b-6d694d76a5c8"
      },
      "execution_count": null,
      "outputs": [
        {
          "output_type": "stream",
          "name": "stdout",
          "text": [
            "35\n"
          ]
        }
      ]
    },
    {
      "cell_type": "code",
      "source": [
        "#Kth Largest Element in an Array s1\n",
        "def kth (arr,k):\n",
        "  for i in range(k-1):\n",
        "    arr.remove(max(arr))\n",
        "  return max(arr)\n",
        "arr=[1,2,3,5,4]\n",
        "k=3\n",
        "sol=kth(arr,k)\n",
        "print(sol)"
      ],
      "metadata": {
        "id": "U5uZNJJnyIJK",
        "colab": {
          "base_uri": "https://localhost:8080/"
        },
        "outputId": "5cc7b4fe-aa09-4cb8-ceea-db0aab65a73f"
      },
      "execution_count": 11,
      "outputs": [
        {
          "output_type": "stream",
          "name": "stdout",
          "text": [
            "3\n"
          ]
        }
      ]
    },
    {
      "cell_type": "code",
      "source": [
        "#Kth Largest Element in an Array s2\n",
        "def kth(arr,k):\n",
        "  arr.sort()\n",
        "  return arr[len(arr)-k]\n",
        "arr=[1,2,3,5,4]\n",
        "k=3\n",
        "sol=kth(arr,k)\n",
        "print(sol)"
      ],
      "metadata": {
        "id": "xURfwZ8R2k5p",
        "colab": {
          "base_uri": "https://localhost:8080/"
        },
        "outputId": "4bdc8623-cbf9-4956-d5bb-849c29f8030d"
      },
      "execution_count": 15,
      "outputs": [
        {
          "output_type": "stream",
          "name": "stdout",
          "text": [
            "3\n"
          ]
        }
      ]
    },
    {
      "cell_type": "code",
      "source": [],
      "metadata": {
        "id": "puAjinEent4B"
      },
      "execution_count": null,
      "outputs": []
    }
  ]
}